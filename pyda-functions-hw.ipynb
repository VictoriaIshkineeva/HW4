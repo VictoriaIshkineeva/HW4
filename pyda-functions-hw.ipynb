{
 "cells": [
  {
   "cell_type": "markdown",
   "metadata": {},
   "source": [
    "## Задание 1"
   ]
  },
  {
   "cell_type": "markdown",
   "metadata": {},
   "source": [
    "Дан список вида:"
   ]
  },
  {
   "cell_type": "code",
   "execution_count": 1,
   "metadata": {},
   "outputs": [],
   "source": [
    "data = [\n",
    "    [13, 25, 23, 34],\n",
    "    [45, 32, 44, 47],\n",
    "    [12, 33, 23, 95],\n",
    "    [13, 53, 34, 35]\n",
    "]"
   ]
  },
  {
   "cell_type": "markdown",
   "metadata": {},
   "source": [
    "Напишите функцию, которая возвращает сумму элементов на диагонали. Т. е. 13+32+23+35.  \n",
    "Список может быть любой длины, но всегда является \"квадратным\" (количество элементов во вложенных списках равно их количеству)."
   ]
  },
  {
   "cell_type": "code",
   "execution_count": 1,
   "metadata": {},
   "outputs": [
    {
     "data": {
      "text/plain": [
       "103"
      ]
     },
     "execution_count": 1,
     "metadata": {},
     "output_type": "execute_result"
    }
   ],
   "source": [
    "\n",
    "data = [\n",
    "    [13, 25, 23, 34],\n",
    "    [45, 32, 44, 47],\n",
    "    [12, 33, 23, 95],\n",
    "    [13, 53, 34, 35]\n",
    "]\n",
    "def diagonal_sum(data):\n",
    "    pointer = 0\n",
    "    result = 0\n",
    "    for row in data:\n",
    "        result += row[pointer]\n",
    "        pointer +=1\n",
    "    return result \n",
    "diagonal_sum(data)"
   ]
  },
  {
   "cell_type": "markdown",
   "metadata": {},
   "source": [
    "## Задание 2"
   ]
  },
  {
   "cell_type": "markdown",
   "metadata": {},
   "source": [
    "Напишите функцию, возвращающую сумму первых n чисел Фибоначчи (для этого вам может понадобится ознакомиться с рекурсией)."
   ]
  },
  {
   "cell_type": "code",
   "execution_count": 2,
   "metadata": {},
   "outputs": [
    {
     "name": "stdout",
     "output_type": "stream",
     "text": [
      "143\n"
     ]
    }
   ],
   "source": [
    "def fib(n):\n",
    "    seq = [0, 1]\n",
    "    for i in range(2, n + 1):\n",
    "        seq.append(seq[i-1] + seq[i-2])\n",
    "    print(sum(seq))\n",
    "    \n",
    "fib(10)"
   ]
  },
  {
   "cell_type": "markdown",
   "metadata": {},
   "source": [
    "## Задание 3\n"
   ]
  },
  {
   "cell_type": "markdown",
   "metadata": {},
   "source": [
    "Напишите функцию, преобразующую произвольный список вида ['2018-01-01', 'yandex', 'cpc', 100] (он может быть любой длины) в словарь {'2018-01-01': {'yandex': {'cpc': 100}}}"
   ]
  },
  {
   "cell_type": "code",
   "execution_count": 12,
   "metadata": {},
   "outputs": [
    {
     "name": "stdout",
     "output_type": "stream",
     "text": [
      "{'2018-01-01': {'yandex': {'cpc': 100}}}\n"
     ]
    }
   ],
   "source": [
    "  \n",
    "array = ['2018-01-01', 'yandex', 'cpc', 100]\n",
    "def arr_to_dict(arr, n=0):\n",
    "    if n == len(arr)-2:\n",
    "        return {arr[-2]:arr[-1]}\n",
    "    else:  \n",
    "        return {arr[n]:arr_to_dict(arr, n+1)}\n",
    "print(arr_to_dict(array))\n"
   ]
  },
  {
   "cell_type": "markdown",
   "metadata": {},
   "source": [
    "## Задание 4"
   ]
  },
  {
   "cell_type": "markdown",
   "metadata": {},
   "source": [
    "Вы работаете секретарем и вам постоянно приходят различные документы. Вы должны быть очень внимательны, чтобы не потерять ни один документ. Каталог документов хранится в следующем виде:"
   ]
  },
  {
   "cell_type": "code",
   "execution_count": 4,
   "metadata": {},
   "outputs": [],
   "source": [
    "documents = [\n",
    "    {'type': 'passport', 'number': '2207 876234', 'name': 'Василий Гупкин'},\n",
    "    {'type': 'invoice', 'number': '11-2', 'name': 'Геннадий Покемонов'},\n",
    "    {'type': 'insurance', 'number': '10006', 'name': 'Аристарх Павлов'}\n",
    "]"
   ]
  },
  {
   "cell_type": "markdown",
   "metadata": {},
   "source": [
    "Перечень полок, на которых находятся документы хранится в следующем виде:"
   ]
  },
  {
   "cell_type": "code",
   "execution_count": 5,
   "metadata": {},
   "outputs": [],
   "source": [
    "directories = {\n",
    "    '1': ['2207 876234', '11-2', '5455 028765'],\n",
    "    '2': ['10006', '5400 028765', '5455 002299'],\n",
    "    '3': []\n",
    "}"
   ]
  },
  {
   "cell_type": "code",
   "execution_count": null,
   "metadata": {},
   "outputs": [],
   "source": [
    "documents = [\n",
    "    {'type': 'passport', 'number': '2207 876234', 'name': 'Василий Гупкин'},\n",
    "    {'type': 'invoice', 'number': '11-2', 'name': 'Геннадий Покемонов'},\n",
    "    {'type': 'insurance', 'number': '10006', 'name': 'Аристарх Павлов'}\n",
    "]\n",
    "directories = {\n",
    "    '1': ['2207 876234', '11-2', '5455 028765'],\n",
    "    '2': ['p', '5400 028765', '5455 002299'],\n",
    "    '3': []\n",
    "}\n",
    "\n",
    "def people():\n",
    "    doc_num = input(\"Введите номер документа: \")\n",
    "    for elc in documents: \n",
    "        if elc['number'] == doc_num:\n",
    "            print(elc['name'])\n",
    "            return\n",
    "    print(\"ФИО с таким № документа не существует\")\n",
    "    \n",
    "def shelf():\n",
    "    doc_numb = input(\"Введите номер документа: \")\n",
    "    for key, value in directories.items():\n",
    "        if value.count(doc_numb) != 0:\n",
    "            print(\"№ полки: \" + key)\n",
    "            return\n",
    "    print(\"Документ не найден\")\n",
    "\n",
    "def list_data():\n",
    "    for elc in documents:\n",
    "        print(\"**\" + elc['type'] + \" '\" + elc['number'] + \"' '\" + elc['name'] + \"'**\")\n",
    "\n",
    "def add_shelf():\n",
    "    shelf_numb = input(\"Введите № полки: \")\n",
    "    if list(directories.keys()).count(shelf_numb) == 0:\n",
    "        directories.update({shelf_numb:[]})\n",
    "        print(\"Полка с номером \" + shelf_numb + \"добавлена\")\n",
    "    else: \n",
    "        print(\"Полка с таким номером уже существует\")\n",
    "\n",
    "def delete():\n",
    "    doc_numb = input(\"Введите номер документа: \")\n",
    "    del_flag = False\n",
    "    for elc in documents:\n",
    "        if elc['number'] == doc_num:\n",
    "            doc_numb = elc['number']\n",
    "            documents.remove(elc)\n",
    "            del_flag = True\n",
    "    if del_flag == False: \n",
    "        print(\"Номера документа не существует\")\n",
    "    for key, value in directories.items():\n",
    "        if value.count(doc_numb) != 0:\n",
    "            directories[key].remove(doc_numb)\n",
    "\n",
    "def move():\n",
    "    doc_numb = input(\"Введите номер документа: \")\n",
    "    if sum([value.count(doc_numb) for value in directories.values()]) == 0:\n",
    "        print(\"Номера такого документа не существует\")\n",
    "        return\n",
    "    shelf_numb_dest = input(\"Введите номер полки, куда нужно переместить документ: \")\n",
    "    if list(directories.keys()).count(shelf_numb_dest) != 0:\n",
    "        for key, value in directories.items():\n",
    "            if value.count(doc_numb) != 0:\n",
    "                directories[key].remove(doc_numb)\n",
    "        directories[shelf_numb_dest].append(doc_numb)\n",
    "    else: \n",
    "        print(\"Полка с номером \" + shelf_numb_dest + \" не существует\")\n",
    "\n",
    "def add():\n",
    "    doc_type = input(\"Введите тип документа: \")\n",
    "    doc_numb = input(\"Введите номер документа: \")\n",
    "    for elc in documents:\n",
    "        if elc['number'] == doc_num and elc['type'] == doc_type: \n",
    "            print(\"Пользователь с таким номером и типом документа уже существует\")\n",
    "            return    \n",
    "    doc_name = input(\"Введите имя пользователя: \")\n",
    "    shelf_num = input(\"Введите номер полки: \")\n",
    "    if list(directories.keys()).count(shelf_numb) == 0:\n",
    "        print(\"Полки с таким номером не существует\")\n",
    "        return\n",
    "    documents.append({'type': doc_type, 'number': doc_numb, 'name': doc_name})\n",
    "    directories[shelf_numb].append(doc_numb)\n",
    "    print(documents)\n",
    "    print(directories)\n",
    "    \n",
    "def main():\n",
    "    ccc = ''\n",
    "    while ccc != 'q':\n",
    "        ccc = input(\"Введите команду либо для выхода введите команду q:\")\n",
    "        if ccc == 'p':\n",
    "            people()\n",
    "        elif ccc == 's': \n",
    "            shelf()\n",
    "        elif ccc == 'l': \n",
    "            list_data()\n",
    "        elif ccc == 'as':\n",
    "            add_shelf()\n",
    "        elif cmd == 'd':\n",
    "            delete()\n",
    "        elif ccc == 'm': \n",
    "            move()\n",
    "        elif ccc == 'a':\n",
    "            add()\n",
    "        elif ccc == 'q':\n",
    "            print('Сессия завершена')\n",
    "            break\n",
    "        else:\n",
    "            print(\"Неправильная команда\")\n",
    "        \n",
    "main()"
   ]
  },
  {
   "cell_type": "markdown",
   "metadata": {},
   "source": [
    "Необходимо реализовать пользовательские команды (внимание! это не название функций, которые должны быть выразительными, а команды, которые вводит пользователь, чтобы получить необходимый результат):\n",
    "  \n",
    "- p – people – команда, которая спросит номер документа и выведет имя человека, которому он принадлежит;  \n",
    "- s – shelf – команда, которая спросит номер документа и выведет номер полки, на которой он находится  \n",
    "Правильно обработайте ситуацию, когда пользователь будет вводить несуществующий документ.\n",
    "- l – list – команда, которая выведет список всех документов в формате   \n",
    "**passport \"2207 876234\" \"Василий Гупкин\"**  \n",
    "- as – add shelf – команда, которая спросит номер новой полки и добавит ее в перечень\n",
    "- d – delete – команда, которая спросит номер документа и удалит его из каталога и из перечня полок. Предусмотрите сценарий, когда пользователь вводит несуществующий документ;  \n",
    "- m – move – команда, которая спросит номер документа и целевую полку и переместит его с текущей полки на целевую. Корректно обработайте кейсы, когда пользователь пытается переместить несуществующий документ или переместить документ на несуществующую полку;  \n",
    "- a – add – команда, которая добавит новый документ в каталог и в перечень полок, спросив его номер, тип, имя владельца и номер полки, на котором он будет храниться."
   ]
  }
 ],
 "metadata": {
  "kernelspec": {
   "display_name": "Python 3",
   "language": "python",
   "name": "python3"
  },
  "language_info": {
   "codemirror_mode": {
    "name": "ipython",
    "version": 3
   },
   "file_extension": ".py",
   "mimetype": "text/x-python",
   "name": "python",
   "nbconvert_exporter": "python",
   "pygments_lexer": "ipython3",
   "version": "3.7.4"
  }
 },
 "nbformat": 4,
 "nbformat_minor": 2
}
